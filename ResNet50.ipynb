{
 "nbformat": 4,
 "nbformat_minor": 0,
 "metadata": {
  "accelerator": "GPU",
  "colab": {
   "name": "MyResNet50.ipynb",
   "provenance": [],
   "collapsed_sections": [
    "kADsnVpPzD1R"
   ],
   "include_colab_link": true
  },
  "coursera": {
   "course_slug": "convolutional-neural-networks",
   "graded_item_id": "OEpi5",
   "launcher_item_id": "jK9EQ"
  },
  "kernelspec": {
   "display_name": "Python 3",
   "name": "python3"
  },
  "language_info": {
   "name": "python"
  }
 },
 "cells": [
  {
   "cell_type": "markdown",
   "metadata": {
    "id": "view-in-github",
    "colab_type": "text",
    "pycharm": {
     "name": "#%% md\n"
    }
   },
   "source": [
    "<a href=\"https://colab.research.google.com/github/nikomadol/ResNet50-on-CIFAR-10-and-FER-2013/blob/main/MyResNet50.ipynb\" target=\"_parent\"><img src=\"https://colab.research.google.com/assets/colab-badge.svg\" alt=\"Open In Colab\"/></a>"
   ]
  },
  {
   "cell_type": "markdown",
   "metadata": {
    "id": "EUa1CPeIvXqz",
    "pycharm": {
     "name": "#%% md\n"
    }
   },
   "source": [
    "## Residual Networks"
   ]
  },
  {
   "cell_type": "markdown",
   "metadata": {
    "id": "JV7IiTj5yIB2",
    "pycharm": {
     "name": "#%% md\n"
    }
   },
   "source": [
    "### Imports"
   ]
  },
  {
   "cell_type": "code",
   "metadata": {
    "id": "FGoQjpzmyGYl",
    "pycharm": {
     "name": "#%%\n"
    }
   },
   "source": [
    "import numpy as np\n",
    "from keras.layers import Input, Add, Dense, Activation, ZeroPadding2D\n",
    "from keras.layers import BatchNormalization, Flatten, Conv2D, GlobalAveragePooling2D\n",
    "from keras.models import Model\n",
    "from keras.utils import to_categorical\n",
    "import matplotlib.pyplot as plt\n",
    "%matplotlib inline"
   ],
   "execution_count": null,
   "outputs": []
  },
  {
   "cell_type": "markdown",
   "metadata": {
    "id": "tW4xUYW5vXrC",
    "pycharm": {
     "name": "#%% md\n"
    }
   },
   "source": [
    "### Identity Block\n",
    "\n",
    "When the input has the same dimension as the output.\n",
    "\n",
    "<img src=\"https://raw.githubusercontent.com/priya-dwivedi/Deep-Learning/870874540a59792ad164faa92e79bfe056056241/resnet_keras/images/idblock3_kiank.png\" style=\"width:650px;height:150px;\">\n",
    "\n",
    "**First component of main path:**\n",
    "- CONV2D\n",
    "  - $F_1$ filters of shape (1,1)\n",
    "  - Stride of (1,1)\n",
    "  - Same padding\n",
    "- Batch Norm on channel\n",
    "- ReLU Activation\n",
    "\n",
    "**Second component of main path:**\n",
    "- CONV2D\n",
    "  - $F_2$ filters of shape (f,f)\n",
    "  - Stride of (1,1)\n",
    "  - Same padding\n",
    "- Batch Norm on channel\n",
    "- ReLU Activation\n",
    "\n",
    "**Third component of main path:**\n",
    "- CONV2D\n",
    "  - $F_3$ filters of shape (1,1)\n",
    "  - Stride of (1,1)\n",
    "  - Same padding\n",
    "- Batch Norm on channel\n",
    "\n",
    "**Final step:**\n",
    "- Add shortcut and input\n",
    "- ReLU Activation"
   ]
  },
  {
   "cell_type": "code",
   "metadata": {
    "id": "fzbAvEyAvXrD",
    "pycharm": {
     "name": "#%%\n"
    }
   },
   "source": [
    "def identity_block(X, filters, f):\n",
    "  F1, F2, F3 = filters\n",
    "  X_shortcut = X\n",
    "\n",
    "  # First component of main path\n",
    "  X = Conv2D(\n",
    "      filters=F1,\n",
    "      kernel_size=(1, 1),\n",
    "      strides=(1, 1),\n",
    "      padding='same'\n",
    "  )(X)\n",
    "  X = BatchNormalization()(X)\n",
    "  X = Activation('relu')(X)\n",
    "\n",
    "  # Second component of main path\n",
    "  X = Conv2D(\n",
    "      filters = F2,\n",
    "      kernel_size = (f, f),\n",
    "      strides = (1, 1),\n",
    "      padding = 'same'\n",
    "  )(X)\n",
    "  X = BatchNormalization()(X)\n",
    "  X = Activation('relu')(X)\n",
    "\n",
    "  # Third component of main path\n",
    "  X = Conv2D(\n",
    "      filters=F3,\n",
    "      kernel_size=(1, 1),\n",
    "      strides=(1, 1),\n",
    "      padding='same'\n",
    "  )(X)\n",
    "  X = BatchNormalization()(X)\n",
    "\n",
    "  # Final step\n",
    "  X = Add()([X, X_shortcut])\n",
    "  X = Activation('relu')(X)\n",
    "\n",
    "  return X"
   ],
   "execution_count": null,
   "outputs": []
  },
  {
   "cell_type": "markdown",
   "metadata": {
    "id": "vnUEc4-8vXrF",
    "pycharm": {
     "name": "#%% md\n"
    }
   },
   "source": [
    "### Convolutional Block\n",
    "\n",
    "When the input and output dimensions don't match up.\n",
    "\n",
    "<img src=\"https://github.com/priya-dwivedi/Deep-Learning/raw/870874540a59792ad164faa92e79bfe056056241/resnet_keras/images/convblock_kiank.png\" style=\"width:650px;height:150px;\">\n",
    "\n",
    "**First component of main path:**\n",
    "- CONV2D\n",
    "  - $F_1$ filters of shape (1,1)\n",
    "  - Stride of (s,s)\n",
    "  - Same padding\n",
    "- Batch Norm on channel\n",
    "- ReLU Activation\n",
    "\n",
    "**Second component of main path:**\n",
    "- CONV2D\n",
    "  - $F_2$ filters of shape (f,f)\n",
    "  - Stride of (1,1)\n",
    "  - Same padding\n",
    "- Batch Norm on channel\n",
    "- ReLU Activation\n",
    "\n",
    "**Third component of main path:**\n",
    "- CONV2D\n",
    "  - $F_2$ filters of shape (1,1)\n",
    "  - Stride of (1,1)\n",
    "  - Same padding\n",
    "- Batch Norm on channel\n",
    "\n",
    "**Shortcut path:**\n",
    "- CONV2D\n",
    "  - $F_3$ filters of shape (1,1)\n",
    "  - Stride of (s,s)\n",
    "  - Same padding\n",
    "- Batch Norm on channel\n",
    "\n",
    "**Final step:**\n",
    "- Add shortcut and input\n",
    "- ReLU Activation\n",
    "    "
   ]
  },
  {
   "cell_type": "code",
   "metadata": {
    "id": "n01qtq9ivXrG",
    "pycharm": {
     "name": "#%%\n"
    }
   },
   "source": [
    "def convolutional_block(X, filters, f, s):\n",
    "  F1, F2, F3 = filters\n",
    "  X_shortcut = X\n",
    "\n",
    "  ##### MAIN PATH #####\n",
    "  # First component of main path\n",
    "  X = Conv2D(\n",
    "      filters=F1,\n",
    "      kernel_size=(1, 1),\n",
    "      strides=(s, s),\n",
    "      padding='same'\n",
    "  )(X)\n",
    "  X = BatchNormalization()(X)\n",
    "  X = Activation('relu')(X)\n",
    "\n",
    "  # Second component of main path\n",
    "  X = Conv2D(\n",
    "      filters=F2,\n",
    "      kernel_size=(f, f),\n",
    "      strides=(1, 1),\n",
    "      padding='same'\n",
    "  )(X)\n",
    "  X = BatchNormalization()(X)\n",
    "  X = Activation('relu')(X)\n",
    "\n",
    "  # Third component of main path\n",
    "  X = Conv2D(\n",
    "      filters=F3,\n",
    "      kernel_size=(1, 1),\n",
    "      strides=(1, 1),\n",
    "      padding='same'\n",
    "  )(X)\n",
    "  X = BatchNormalization()(X)\n",
    "\n",
    "\n",
    "  ##### SHORTCUT PATH #####\n",
    "  X_shortcut = Conv2D(\n",
    "      filters=F3,\n",
    "      kernel_size=(1, 1),\n",
    "      strides=(s, s),\n",
    "      padding='same'\n",
    "  )(X_shortcut)\n",
    "  X_shortcut = BatchNormalization()(X_shortcut)\n",
    "\n",
    "\n",
    "  # Final step\n",
    "  X = Add()([X, X_shortcut])\n",
    "  X = Activation('relu')(X)\n",
    "\n",
    "  return X"
   ],
   "execution_count": null,
   "outputs": []
  },
  {
   "cell_type": "markdown",
   "metadata": {
    "id": "3hVdEfGnvXrI",
    "pycharm": {
     "name": "#%% md\n"
    }
   },
   "source": [
    "### ResNet50 Model\n",
    "\n",
    "<img src=\"https://github.com/priya-dwivedi/Deep-Learning/raw/870874540a59792ad164faa92e79bfe056056241/resnet_keras/images/resnet_kiank.png\" style=\"width:850px;height:150px;\">\n",
    "\n",
    "- Zero padding (3,3)\n",
    "\n",
    "- Stage 1:\n",
    "  - CONV2D\n",
    "    - \"filters_array[0][0]\" filters of shape (7,7)\n",
    "    - Stride of (2,2)\n",
    "    - Same padding\n",
    "  - Batch Norm on channel\n",
    "  - <s>Max pooling of window (3,3) and stride (2,2)</s>\n",
    "  - ReLU Activation\n",
    "\n",
    "- Stage 2:\n",
    "  - Conv Block\n",
    "    - 3 sets of filters \"filters_array[0]\"\n",
    "    - filters of shape (3,3)\n",
    "    - Stride of (1,1)\n",
    "  - 2 * ID Block\n",
    "    - 3 sets of filters \"filters_array[0]\"\n",
    "    - filters of shape (3,3)\n",
    "\n",
    "- Stage 3:\n",
    "  - Conv Block\n",
    "    - 3 sets of filters \"filters_array[1]\"\n",
    "    - filters of shape (3,3)\n",
    "    - Stride of (2,2)\n",
    "  - 3 * ID Block\n",
    "    - 3 sets of filters \"filters_array[1]\"\n",
    "    - filters of shape (3,3)\n",
    "\n",
    "- Stage 4:\n",
    "  - Conv Block\n",
    "    - 3 sets of filters \"filters_array[2]\"\n",
    "    - filters of shape (3,3)\n",
    "    - Stride of (2,2)\n",
    "  - 5 * ID Block\n",
    "    - 3 sets of filters \"filters_array[2]\"\n",
    "    - filters of shape (3,3)\n",
    "\n",
    "- Stage 5:\n",
    "  - Conv Block\n",
    "    - 3 sets of filters \"filters_array[3]\"\n",
    "    - filters of shape (3,3)\n",
    "    - Stride of (2,2)\n",
    "  - 2 * ID Block\n",
    "    - 3 sets of filters \"filters_array[3]\"\n",
    "    - filters of shape (3,3)\n",
    "\n",
    "- Global Average Pooling2D\n",
    "\n",
    "- Flatten\n",
    "\n",
    "- The Fully Connected (Dense) layer using softmax activation"
   ]
  },
  {
   "cell_type": "code",
   "metadata": {
    "id": "WQ5LryD8vXrI",
    "pycharm": {
     "name": "#%%\n"
    }
   },
   "source": [
    "def get_model(input_shape, classes, filters):\n",
    "  \"\"\"\n",
    "  ZEROPAD\n",
    "  Stage1: CONV2D -> BATCHNORM -> RELU -> MAXPOOL\n",
    "  Stage2: CONVBLOCK -> IDBLOCK*2\n",
    "  Stage3: CONVBLOCK -> IDBLOCK*3\n",
    "  Stage4: CONVBLOCK -> IDBLOCK*5\n",
    "  Stage5: CONVBLOCK -> IDBLOCK*2\n",
    "  AVGPOOL -> FLATTEN -> FC\n",
    "  \"\"\"\n",
    "  X_input = Input(input_shape)\n",
    "\n",
    "  # ZEROPAD\n",
    "  X = ZeroPadding2D((3, 3))(X_input)\n",
    "\n",
    "  # Stage 1\n",
    "  X = Conv2D(\n",
    "      filters=filters[0][0],\n",
    "      kernel_size=(7, 7),\n",
    "      strides=(2, 2),\n",
    "      padding='same'\n",
    "  )(X)\n",
    "  X = BatchNormalization()(X)\n",
    "  X = Activation('relu')(X)\n",
    "  # X = MaxPooling2D((3, 3), strides=(2, 2))(X)\n",
    "\n",
    "  # Stage 2\n",
    "  X = convolutional_block(X, filters[0], f=3, s=1)\n",
    "  for _ in range(2):\n",
    "    X = identity_block(X, filters[0], f=3)\n",
    "\n",
    "  # Stage 3\n",
    "  X = convolutional_block(X, filters[1], f=3, s=2)\n",
    "  for _ in range(3):\n",
    "    X = identity_block(X, filters[1], f=3)\n",
    "\n",
    "  # Stage 4\n",
    "  X = convolutional_block(X, filters[2], f=3, s=2)\n",
    "  for _ in range(5):\n",
    "    X = identity_block(X, filters[2], f=3)\n",
    "\n",
    "  # Stage 5\n",
    "  X = convolutional_block(X, filters[3], f=3, s=2)\n",
    "  for _ in range(2):\n",
    "    X = identity_block(X, filters[3], f=3)\n",
    "\n",
    "  # AVGPOOL\n",
    "  X = GlobalAveragePooling2D()(X)\n",
    "\n",
    "  # Output Layer\n",
    "  X = Flatten()(X)\n",
    "  X = Dense(units=classes, activation='softmax')(X)\n",
    "\n",
    "  # Create model\n",
    "  model = Model(inputs=X_input, outputs=X, name='ResNet50')\n",
    "\n",
    "  return model"
   ],
   "execution_count": null,
   "outputs": []
  },
  {
   "cell_type": "markdown",
   "metadata": {
    "id": "v8S6gXHhylnz",
    "pycharm": {
     "name": "#%% md\n"
    }
   },
   "source": [
    "## Train on CIFAR-10"
   ]
  },
  {
   "cell_type": "code",
   "metadata": {
    "id": "kT-yw7duy-6o",
    "colab": {
     "base_uri": "https://localhost:8080/"
    },
    "outputId": "7d5d1931-442b-453f-edce-1ca522c91c73",
    "pycharm": {
     "name": "#%%\n"
    }
   },
   "source": [
    "from keras.datasets import cifar10\n",
    "\n",
    "(X_train_orig, Y_train_orig), (X_test_orig, Y_test_orig) = cifar10.load_data()\n",
    "X_train = X_train_orig / 255\n",
    "X_test = X_test_orig / 255\n",
    "\n",
    "Y_train = Y_train_orig.flatten()\n",
    "Y_train = to_categorical(Y_train)\n",
    "Y_test = Y_test_orig.flatten()\n",
    "Y_test = to_categorical(Y_test)"
   ],
   "execution_count": null,
   "outputs": [
    {
     "output_type": "stream",
     "text": [
      "Downloading data from https://www.cs.toronto.edu/~kriz/cifar-10-python.tar.gz\n",
      "170500096/170498071 [==============================] - 4s 0us/step\n"
     ],
     "name": "stdout"
    }
   ]
  },
  {
   "cell_type": "code",
   "metadata": {
    "id": "tdafMwzPKdQS",
    "pycharm": {
     "name": "#%%\n"
    }
   },
   "source": [
    "CLASSES = Y_train.shape[1]\n",
    "WIDTH = X_train.shape[1]\n",
    "HEIGHT = X_train.shape[2]\n",
    "CHANNEL = X_train.shape[3]"
   ],
   "execution_count": null,
   "outputs": []
  },
  {
   "cell_type": "code",
   "metadata": {
    "colab": {
     "base_uri": "https://localhost:8080/"
    },
    "id": "iQ7khIO3Ln4S",
    "outputId": "3463c0a1-255c-4713-f617-72811c43ad6b",
    "pycharm": {
     "name": "#%%\n"
    }
   },
   "source": [
    "filters_array = [\n",
    "    [32, 32, 128],\n",
    "    [64, 64, 256],\n",
    "    [128, 128, 512],\n",
    "    [256, 256, 1024]\n",
    "]\n",
    "\n",
    "model = get_model((WIDTH, HEIGHT, CHANNEL), CLASSES, filters_array)\n",
    "\n",
    "model.compile(\n",
    "    optimizer='adam',\n",
    "    loss='categorical_crossentropy',\n",
    "    metrics=['accuracy']\n",
    ")\n",
    "\n",
    "history = model.fit(\n",
    "    X_train,\n",
    "    Y_train,\n",
    "    epochs=15,\n",
    "    validation_split=0.2\n",
    ")"
   ],
   "execution_count": null,
   "outputs": [
    {
     "output_type": "stream",
     "text": [
      "Epoch 1/15\n",
      "1250/1250 [==============================] - 45s 32ms/step - loss: 2.0386 - accuracy: 0.3196 - val_loss: 1.7949 - val_accuracy: 0.4178\n",
      "Epoch 2/15\n",
      "1250/1250 [==============================] - 39s 31ms/step - loss: 1.3883 - accuracy: 0.4995 - val_loss: 1.9463 - val_accuracy: 0.3783\n",
      "Epoch 3/15\n",
      "1250/1250 [==============================] - 40s 32ms/step - loss: 1.1946 - accuracy: 0.5770 - val_loss: 1.8306 - val_accuracy: 0.5440\n",
      "Epoch 4/15\n",
      "1250/1250 [==============================] - 40s 32ms/step - loss: 1.0297 - accuracy: 0.6383 - val_loss: 1.0538 - val_accuracy: 0.6278\n",
      "Epoch 5/15\n",
      "1250/1250 [==============================] - 40s 32ms/step - loss: 0.8656 - accuracy: 0.6933 - val_loss: 2.6145 - val_accuracy: 0.5626\n",
      "Epoch 6/15\n",
      "1250/1250 [==============================] - 41s 32ms/step - loss: 0.7580 - accuracy: 0.7349 - val_loss: 0.9270 - val_accuracy: 0.6795\n",
      "Epoch 7/15\n",
      "1250/1250 [==============================] - 40s 32ms/step - loss: 0.6385 - accuracy: 0.7771 - val_loss: 0.9161 - val_accuracy: 0.6866\n",
      "Epoch 8/15\n",
      "1250/1250 [==============================] - 40s 32ms/step - loss: 0.5457 - accuracy: 0.8086 - val_loss: 0.9043 - val_accuracy: 0.6909\n",
      "Epoch 9/15\n",
      "1250/1250 [==============================] - 40s 32ms/step - loss: 0.4224 - accuracy: 0.8521 - val_loss: 0.8740 - val_accuracy: 0.7195\n",
      "Epoch 10/15\n",
      "1250/1250 [==============================] - 40s 32ms/step - loss: 0.3461 - accuracy: 0.8792 - val_loss: 1.1311 - val_accuracy: 0.6850\n",
      "Epoch 11/15\n",
      "1250/1250 [==============================] - 41s 33ms/step - loss: 0.2686 - accuracy: 0.9061 - val_loss: 0.9820 - val_accuracy: 0.7193\n",
      "Epoch 12/15\n",
      "1250/1250 [==============================] - 41s 33ms/step - loss: 0.2223 - accuracy: 0.9210 - val_loss: 1.0800 - val_accuracy: 0.7153\n",
      "Epoch 13/15\n",
      "1250/1250 [==============================] - 40s 32ms/step - loss: 0.1831 - accuracy: 0.9366 - val_loss: 1.1389 - val_accuracy: 0.7092\n",
      "Epoch 14/15\n",
      "1250/1250 [==============================] - 40s 32ms/step - loss: 0.1563 - accuracy: 0.9462 - val_loss: 1.2371 - val_accuracy: 0.7006\n",
      "Epoch 15/15\n",
      "1250/1250 [==============================] - 40s 32ms/step - loss: 0.1292 - accuracy: 0.9565 - val_loss: 1.0765 - val_accuracy: 0.7426\n"
     ],
     "name": "stdout"
    }
   ]
  },
  {
   "cell_type": "code",
   "metadata": {
    "colab": {
     "base_uri": "https://localhost:8080/",
     "height": 312
    },
    "id": "ZBtMgFTzOaGt",
    "outputId": "413888a2-1ba1-4c27-8e70-00b54d4cbb14",
    "pycharm": {
     "name": "#%%\n"
    }
   },
   "source": [
    "fig, (ax1, ax2) = plt.subplots(1, 2)\n",
    "\n",
    "ax1.plot(history.history['accuracy'])\n",
    "ax1.plot(history.history['val_accuracy'])\n",
    "ax1.set_title('Model accuracy')\n",
    "ax1.set_xlabel('iteration')\n",
    "ax1.legend(['training', 'validation'], loc='lower right')\n",
    "\n",
    "ax2.plot(history.history['loss'])\n",
    "ax2.plot(history.history['val_loss'])\n",
    "ax2.set_title('Model loss')\n",
    "ax2.set_xlabel('iteration')\n",
    "ax2.legend(['training', 'validation'], loc='upper right')"
   ],
   "execution_count": null,
   "outputs": [
    {
     "output_type": "execute_result",
     "data": {
      "text/plain": [
       "<matplotlib.legend.Legend at 0x7f81d1c34090>"
      ]
     },
     "metadata": {
      "tags": []
     },
     "execution_count": 63
    },
    {
     "output_type": "display_data",
     "data": {
      "image/png": "[encoded data removed]",
      "text/plain": [
       "<Figure size 432x288 with 2 Axes>"
      ]
     },
     "metadata": {
      "tags": [],
      "needs_background": "light"
     }
    }
   ]
  },
  {
   "cell_type": "code",
   "metadata": {
    "colab": {
     "base_uri": "https://localhost:8080/"
    },
    "id": "t2yDyhK-LRb_",
    "outputId": "05ee8f9d-3579-411e-94fa-681c05ff4247",
    "pycharm": {
     "name": "#%%\n"
    }
   },
   "source": [
    "score = model.evaluate(X_test, Y_test)\n",
    "print(\"Loss = \" + str(score[0]))\n",
    "print(\"Test Accuracy = \" + str(score[1]))"
   ],
   "execution_count": null,
   "outputs": [
    {
     "output_type": "stream",
     "text": [
      "313/313 [==============================] - 4s 11ms/step - loss: 1.1338 - accuracy: 0.7277\n",
      "Loss = 1.1338281631469727\n",
      "Test Accuracy = 0.7276999950408936\n"
     ],
     "name": "stdout"
    }
   ]
  },
  {
   "cell_type": "markdown",
   "metadata": {
    "id": "kADsnVpPzD1R",
    "pycharm": {
     "name": "#%% md\n"
    }
   },
   "source": [
    "## Train on FER-2013"
   ]
  },
  {
   "cell_type": "code",
   "metadata": {
    "id": "LZLrqeHWzME0",
    "pycharm": {
     "name": "#%%\n"
    }
   },
   "source": [
    "from pydrive.auth import GoogleAuth\n",
    "from pydrive.drive import GoogleDrive\n",
    "from google.colab import auth\n",
    "from oauth2client.client import GoogleCredentials\n",
    "import pandas as pd\n",
    "import math"
   ],
   "execution_count": null,
   "outputs": []
  },
  {
   "cell_type": "code",
   "metadata": {
    "id": "DE14CRrF9Y5V",
    "pycharm": {
     "name": "#%%\n"
    }
   },
   "source": [
    "# Using PyDrive to read FER-2013 csv file from Google drive\n",
    "!pip install -U -q PyDrive\n",
    "\n",
    "# Authenticate and create the PyDrive client.\n",
    "auth.authenticate_user()\n",
    "gauth = GoogleAuth()\n",
    "gauth.credentials = GoogleCredentials.get_application_default()\n",
    "drive = GoogleDrive(gauth)\n",
    "\n",
    "link = 'https://drive.google.com/open?id=14PtUEhxalkq74AsKEqpWOKTpH77qR2Jp'\n",
    "_, id = link.split('=')\n",
    "\n",
    "downloaded = drive.CreateFile({'id':id}) \n",
    "downloaded.GetContentFile('fer2013.csv')  \n",
    "\n",
    "dataset = pd.read_csv('fer2013.csv').to_numpy()\n",
    "np.random.shuffle(dataset)"
   ],
   "execution_count": null,
   "outputs": []
  },
  {
   "cell_type": "code",
   "metadata": {
    "id": "ppP0QQhl97dn",
    "pycharm": {
     "name": "#%%\n"
    }
   },
   "source": [
    "# Extract dataset images and labels \n",
    "dataset_images_dim = 48\n",
    "\n",
    "dataset_images = np.empty((len(dataset), dataset_images_dim, dataset_images_dim), dtype='uint8')\n",
    "dataset_labels = np.empty(len(dataset), dtype='uint8')\n",
    "\n",
    "counter = 0\n",
    "for data_row in dataset[1:]:\n",
    "    emotion, img_data, _ = data_row\n",
    "    img_str_array = img_data.split(\" \")\n",
    "\n",
    "    img_array = []\n",
    "    for i in range(dataset_images_dim):\n",
    "      image_row = []\n",
    "      for j in range(dataset_images_dim):\n",
    "        image_row.append(int(img_str_array[i * dataset_images_dim + j]))\n",
    "      img_array.append(image_row)\n",
    "\n",
    "    dataset_images[counter] = img_array\n",
    "    dataset_labels[counter] = int(emotion)\n",
    "    counter += 1\n",
    "# change labels scale to one hot\n",
    "dataset_labels = to_categorical(dataset_labels)\n",
    "num_classes = dataset_labels.shape[1]\n",
    "\n",
    "# reshape train data to prepare to fit into the model\n",
    "dataset_images = dataset_images.reshape([dataset_images.shape[0], dataset_images.shape[1], dataset_images.shape[2], 1])"
   ],
   "execution_count": null,
   "outputs": []
  },
  {
   "cell_type": "code",
   "metadata": {
    "id": "rhFoXqz4-Uqu",
    "pycharm": {
     "name": "#%%\n"
    }
   },
   "source": [
    "# Split train and test data and labels\n",
    "train_data_percent = 85\n",
    "train_data_count = math.floor(len(dataset) * train_data_percent / 100)\n",
    "\n",
    "X_train = dataset_images[:train_data_count] / 255\n",
    "Y_train = dataset_labels[:train_data_count]\n",
    "\n",
    "X_test = dataset_images[train_data_count:] / 255\n",
    "Y_test = dataset_labels[train_data_count:]"
   ],
   "execution_count": null,
   "outputs": []
  },
  {
   "cell_type": "code",
   "metadata": {
    "id": "pTpGczYLAG4m",
    "pycharm": {
     "name": "#%%\n"
    }
   },
   "source": [
    "CLASSES = Y_train.shape[1]\n",
    "WIDTH = X_train.shape[1]\n",
    "HEIGHT = X_train.shape[2]\n",
    "CHANNEL = X_train.shape[3]"
   ],
   "execution_count": null,
   "outputs": []
  },
  {
   "cell_type": "code",
   "metadata": {
    "colab": {
     "base_uri": "https://localhost:8080/"
    },
    "id": "MZ1WbPvkAJOM",
    "outputId": "3af0c27f-7407-4930-db18-4ac429bdc6c6",
    "pycharm": {
     "name": "#%%\n"
    }
   },
   "source": [
    "filters_array = [\n",
    "    [64, 64, 256],\n",
    "    [128, 128, 512],\n",
    "    [256, 256, 1024],\n",
    "    [512, 512, 2048]\n",
    "]\n",
    "\n",
    "model = get_model((WIDTH, HEIGHT, CHANNEL), CLASSES, filters_array)\n",
    "\n",
    "model.compile(\n",
    "    optimizer='adam',\n",
    "    loss='categorical_crossentropy',\n",
    "    metrics=['accuracy']\n",
    ")\n",
    "\n",
    "history = model.fit(\n",
    "    X_train,\n",
    "    Y_train,\n",
    "    epochs=15,\n",
    "    validation_split=0.15\n",
    ")"
   ],
   "execution_count": null,
   "outputs": [
    {
     "output_type": "stream",
     "text": [
      "Epoch 1/15\n",
      "811/811 [==============================] - 89s 104ms/step - loss: 2.0978 - accuracy: 0.2694 - val_loss: 2.5242 - val_accuracy: 0.2323\n",
      "Epoch 2/15\n",
      "811/811 [==============================] - 86s 106ms/step - loss: 1.5720 - accuracy: 0.4055 - val_loss: 3.1522 - val_accuracy: 0.2019\n",
      "Epoch 3/15\n",
      "811/811 [==============================] - 87s 107ms/step - loss: 1.4380 - accuracy: 0.4586 - val_loss: 1.9375 - val_accuracy: 0.3383\n",
      "Epoch 4/15\n",
      "811/811 [==============================] - 88s 108ms/step - loss: 1.2865 - accuracy: 0.5145 - val_loss: 1.7217 - val_accuracy: 0.3547\n",
      "Epoch 5/15\n",
      "811/811 [==============================] - 88s 108ms/step - loss: 1.2004 - accuracy: 0.5525 - val_loss: 1.7337 - val_accuracy: 0.3715\n",
      "Epoch 6/15\n",
      "811/811 [==============================] - 88s 108ms/step - loss: 1.1401 - accuracy: 0.5720 - val_loss: 1.4574 - val_accuracy: 0.4421\n",
      "Epoch 7/15\n",
      "811/811 [==============================] - 88s 108ms/step - loss: 1.1202 - accuracy: 0.5814 - val_loss: 1.4304 - val_accuracy: 0.4598\n",
      "Epoch 8/15\n",
      "811/811 [==============================] - 87s 108ms/step - loss: 1.0021 - accuracy: 0.6262 - val_loss: 1.3005 - val_accuracy: 0.5269\n",
      "Epoch 9/15\n",
      "811/811 [==============================] - 87s 108ms/step - loss: 0.8836 - accuracy: 0.6703 - val_loss: 1.6601 - val_accuracy: 0.5079\n",
      "Epoch 10/15\n",
      "811/811 [==============================] - 88s 108ms/step - loss: 0.8314 - accuracy: 0.6935 - val_loss: 1.4247 - val_accuracy: 0.5256\n",
      "Epoch 11/15\n",
      "811/811 [==============================] - 87s 108ms/step - loss: 0.7562 - accuracy: 0.7264 - val_loss: 1.5487 - val_accuracy: 0.4937\n",
      "Epoch 12/15\n",
      "811/811 [==============================] - 87s 108ms/step - loss: 0.5385 - accuracy: 0.8050 - val_loss: 1.4067 - val_accuracy: 0.5544\n",
      "Epoch 13/15\n",
      "811/811 [==============================] - 87s 108ms/step - loss: 0.4102 - accuracy: 0.8536 - val_loss: 1.8409 - val_accuracy: 0.5240\n",
      "Epoch 14/15\n",
      "811/811 [==============================] - 88s 108ms/step - loss: 0.4024 - accuracy: 0.8603 - val_loss: 1.7703 - val_accuracy: 0.5653\n",
      "Epoch 15/15\n",
      "811/811 [==============================] - 87s 107ms/step - loss: 0.2345 - accuracy: 0.9184 - val_loss: 1.9724 - val_accuracy: 0.5546\n"
     ],
     "name": "stdout"
    }
   ]
  },
  {
   "cell_type": "code",
   "metadata": {
    "colab": {
     "base_uri": "https://localhost:8080/"
    },
    "id": "WVNmUk9CANlU",
    "outputId": "bd3fcf31-64ae-4f6a-c74d-57bb534cacd2",
    "pycharm": {
     "name": "#%%\n"
    }
   },
   "source": [
    "fig, (ax1, ax2) = plt.subplots(1, 2)\n",
    "\n",
    "ax1.plot(history.history['accuracy'])\n",
    "ax1.plot(history.history['val_accuracy'])\n",
    "ax1.set_title('Model accuracy')\n",
    "ax1.set_xlabel('iteration')\n",
    "ax1.legend(['training', 'validation'], loc='lower right')\n",
    "\n",
    "ax2.plot(history.history['loss'])\n",
    "ax2.plot(history.history['val_loss'])\n",
    "ax2.set_title('Model loss')\n",
    "ax2.set_xlabel('iteration')\n",
    "ax2.legend(['training', 'validation'], loc='upper right')"
   ],
   "execution_count": null,
   "outputs": [
    {
     "output_type": "execute_result",
     "data": {
      "text/plain": [
       "<matplotlib.legend.Legend at 0x7f81c667d550>"
      ]
     },
     "metadata": {
      "tags": []
     },
     "execution_count": 71
    },
    {
     "output_type": "display_data",
     "data": {
      "image/png": "[encoded data removed]",
      "text/plain": [
       "<Figure size 432x288 with 2 Axes>"
      ]
     },
     "metadata": {
      "tags": [],
      "needs_background": "light"
     }
    }
   ]
  },
  {
   "cell_type": "code",
   "metadata": {
    "colab": {
     "base_uri": "https://localhost:8080/"
    },
    "id": "jDjO9audAR7V",
    "outputId": "ceaaf554-86f1-4116-d1d5-6a1818f3101b",
    "pycharm": {
     "name": "#%%\n"
    }
   },
   "source": [
    "score = model.evaluate(X_test, Y_test)\n",
    "print(\"Loss = \" + str(score[0]))\n",
    "print(\"Test Accuracy = \" + str(score[1]))"
   ],
   "execution_count": null,
   "outputs": [
    {
     "output_type": "stream",
     "text": [
      "169/169 [==============================] - 6s 29ms/step - loss: 1.9666 - accuracy: 0.5557\n",
      "Loss = 1.966624140739441\n",
      "Test Accuracy = 0.5557206273078918\n"
     ],
     "name": "stdout"
    }
   ]
  }
 ]
}